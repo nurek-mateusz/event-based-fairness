{
 "cells": [
  {
   "cell_type": "code",
   "execution_count": 1,
   "id": "ee0d26fc",
   "metadata": {},
   "outputs": [],
   "source": [
    "import numpy as np\n",
    "import pandas as pd\n",
    "import os\n",
    "import random"
   ]
  },
  {
   "cell_type": "code",
   "execution_count": 2,
   "id": "584ecb19",
   "metadata": {},
   "outputs": [],
   "source": [
    "path = \"../data/\"\n",
    "events = pd.read_csv(path+\"events.csv\", sep=\";\").dropna().reset_index()\n",
    "surveys = pd.read_csv(path+\"surveys.csv\", sep=\";\").dropna().reset_index()"
   ]
  },
  {
   "cell_type": "code",
   "execution_count": 3,
   "id": "65682e5b",
   "metadata": {},
   "outputs": [],
   "source": [
    "topics = [\"euthanasia\", \"fssocsec\", \"fswelfare\", \"jobguar\", \"marijuana\", \"toomucheqrights\"]"
   ]
  },
  {
   "cell_type": "code",
   "execution_count": 4,
   "id": "669dc127",
   "metadata": {},
   "outputs": [],
   "source": [
    "#change format to datetime\n",
    "for i in range(1,7):\n",
    "    col = \"completed_\" + str(i)\n",
    "    surveys[col] = pd.to_datetime(surveys[col])\n",
    "    \n",
    "events[\"EventTime\"] = pd.to_datetime(events[\"EventTime\"])"
   ]
  },
  {
   "cell_type": "code",
   "execution_count": 5,
   "id": "54a51279",
   "metadata": {},
   "outputs": [],
   "source": [
    "def change_state(sender,receiver):\n",
    "    if sender == 0 and receiver == 0:\n",
    "        return 0\n",
    "    if sender == 0 and receiver == 1:\n",
    "        return 2\n",
    "    if sender == 0 and receiver == 2:\n",
    "        return 0\n",
    "    \n",
    "    if sender == 1 and receiver == 0:\n",
    "        return 2\n",
    "    if sender == 1 and receiver == 1:\n",
    "        return 1\n",
    "    if sender == 1 and receiver == 2:\n",
    "        return 1\n",
    "    \n",
    "    if sender == 2:\n",
    "        opinion = random.choice([0,1])\n",
    "        return change_state(opinion,receiver)"
   ]
  },
  {
   "cell_type": "code",
   "execution_count": 6,
   "id": "95c762f3",
   "metadata": {},
   "outputs": [],
   "source": [
    "def run_NG(topic):\n",
    "\n",
    "    # Create df with current state of students\n",
    "    df = surveys[[\"egoid\", topic + \"_1\"]].copy()\n",
    "    df[\"current_opinion\"] = df[topic + \"_1\"]\n",
    "    df[\"current_survey\"] = 2\n",
    "\n",
    "    # Create df with results\n",
    "    results = pd.DataFrame(columns=[\"StudentID\", \"SurveyDate\", \"SurveyNr\", \"Question\", \"OpinionSurvey\", \"OpinionSimulation\"])\n",
    "\n",
    "    # Iterate through events\n",
    "    for index, row in events.iterrows():\n",
    "        receiver = row[\"ReceiverID\"]\n",
    "        sender = row[\"SenderID\"]\n",
    "        event_time = row[\"EventTime\"]\n",
    "        #print(index)\n",
    "\n",
    "        try:\n",
    "            # Update current reciever state \n",
    "            sender_state = df.loc[df[\"egoid\"] == sender, \"current_opinion\"].iloc[0]\n",
    "            receiver_state = df.loc[df[\"egoid\"] == receiver, \"current_opinion\"].iloc[0]\n",
    "            updated_receiver_state = change_state(sender_state,receiver_state)\n",
    "            df.loc[df[\"egoid\"] == receiver, \"current_state\"] = updated_receiver_state\n",
    "            \n",
    "            \n",
    "            # Compare event time with survey time and update results\n",
    "            survey_num = df.loc[df[\"egoid\"] == receiver, \"current_survey\"].iloc[0]\n",
    "            survey_date = surveys.loc[surveys[\"egoid\"] == receiver, \"completed_\" + str(survey_num)].iloc[0]\n",
    "            survey_opinion = surveys.loc[surveys[\"egoid\"] == receiver, topic + \"_\" + str(survey_num)].iloc[0]\n",
    "            print(event_time, survey_date,survey_num, sender, receiver,sender_state,receiver_state,updated_receiver_state)\n",
    "            if survey_date<event_time:\n",
    "                print(\"OK\")\n",
    "                df.loc[df[\"egoid\"] == receiver, \"current_survey\"] += 1\n",
    "                new_row_data = {\n",
    "                    \"StudentID\": receiver,\n",
    "                    \"SurveyDate\": survey_date,\n",
    "                    \"SurveyNr\": survey_num,\n",
    "                    \n",
    "                    \"Question\": topic,\n",
    "                    \"OpinionSurvey\": survey_opinion,\n",
    "                    \"OpinionSimulation\": updated_receiver_state\n",
    "                }\n",
    "                results.loc[len(results)] = new_row_data\n",
    "\n",
    "            #df.loc[df[\"egoid\"] == receiver, \"current_opinion\"] = df.loc[df[\"egoid\"] == sender, topic + \"_1\"].iloc[0]\n",
    "        except Exception as e:\n",
    "            #print(f\"Error: {e}\")\n",
    "            pass\n",
    "\n",
    "        #if index == 125000:\n",
    "         #   break\n",
    "            \n",
    "    return results\n"
   ]
  },
  {
   "cell_type": "code",
   "execution_count": 119,
   "id": "27771850",
   "metadata": {},
   "outputs": [],
   "source": [
    "evaluation = pd.DataFrame(columns=[\"topic\", \"accuracy\"])"
   ]
  },
  {
   "cell_type": "code",
   "execution_count": null,
   "id": "869bdaf0",
   "metadata": {},
   "outputs": [],
   "source": [
    "for topic in topics:\n",
    "    res = run_NG(topic)\n",
    "    res[\"is_sim_survey\"] = np.where(res['OpinionSimulation'] == res['OpinionSurvey'], 1, 0)\n",
    "    accuracy = res.is_sim_survey.mean()\n",
    "    evaluation.loc[len(evaluation)] = {\"topic\": topic,\"accuracy\": accuracy}\n",
    "    res.to_csv(\"naming_game_\" + topic + '.csv')  \n",
    "    print(topic, accuracy)"
   ]
  },
  {
   "cell_type": "code",
   "execution_count": 7,
   "id": "3009f545",
   "metadata": {},
   "outputs": [
    {
     "name": "stdout",
     "output_type": "stream",
     "text": [
      "euthanasia 0.39387755102040817\n",
      "fssocsec 0.27346938775510204\n",
      "fswelfare 0.32448979591836735\n",
      "jobguar 0.3510204081632653\n",
      "marijuana 0.44693877551020406\n",
      "toomucheqrights 0.3510204081632653\n"
     ]
    }
   ],
   "source": [
    "for topic in topics:\n",
    "    res = pd.read_csv(\"naming_game_\" + topic + '.csv')\n",
    "    accuracy = res.is_sim_survey.mean()\n",
    "    print(topic, accuracy)"
   ]
  },
  {
   "cell_type": "code",
   "execution_count": null,
   "id": "06c10d5e",
   "metadata": {},
   "outputs": [],
   "source": []
  }
 ],
 "metadata": {
  "kernelspec": {
   "display_name": "Python 3 (ipykernel)",
   "language": "python",
   "name": "python3"
  },
  "language_info": {
   "codemirror_mode": {
    "name": "ipython",
    "version": 3
   },
   "file_extension": ".py",
   "mimetype": "text/x-python",
   "name": "python",
   "nbconvert_exporter": "python",
   "pygments_lexer": "ipython3",
   "version": "3.9.13"
  },
  "toc": {
   "base_numbering": 1,
   "nav_menu": {},
   "number_sections": true,
   "sideBar": true,
   "skip_h1_title": false,
   "title_cell": "Table of Contents",
   "title_sidebar": "Contents",
   "toc_cell": false,
   "toc_position": {},
   "toc_section_display": true,
   "toc_window_display": false
  }
 },
 "nbformat": 4,
 "nbformat_minor": 5
}
